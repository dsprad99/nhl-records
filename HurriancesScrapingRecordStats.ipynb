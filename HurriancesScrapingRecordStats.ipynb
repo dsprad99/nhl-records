{
 "cells": [
  {
   "cell_type": "code",
   "execution_count": 122,
   "id": "6503fd1a",
   "metadata": {},
   "outputs": [],
   "source": [
    "import pandas as pd\n",
    "import matplotlib.pyplot as plt"
   ]
  },
  {
   "cell_type": "code",
   "execution_count": 50,
   "id": "2a3a704d",
   "metadata": {},
   "outputs": [
    {
     "data": {
      "text/html": [
       "<div>\n",
       "<style scoped>\n",
       "    .dataframe tbody tr th:only-of-type {\n",
       "        vertical-align: middle;\n",
       "    }\n",
       "\n",
       "    .dataframe tbody tr th {\n",
       "        vertical-align: top;\n",
       "    }\n",
       "\n",
       "    .dataframe thead th {\n",
       "        text-align: right;\n",
       "    }\n",
       "</style>\n",
       "<table border=\"1\" class=\"dataframe\">\n",
       "  <thead>\n",
       "    <tr style=\"text-align: right;\">\n",
       "      <th></th>\n",
       "      <th>Date</th>\n",
       "      <th>Visitor</th>\n",
       "      <th>GVisitor</th>\n",
       "      <th>Home</th>\n",
       "      <th>GHome</th>\n",
       "      <th>Unnamed: 5</th>\n",
       "      <th>Att.</th>\n",
       "      <th>LOG</th>\n",
       "      <th>Notes</th>\n",
       "    </tr>\n",
       "  </thead>\n",
       "  <tbody>\n",
       "    <tr>\n",
       "      <th>0</th>\n",
       "      <td>2022-10-07</td>\n",
       "      <td>San Jose Sharks</td>\n",
       "      <td>1.0</td>\n",
       "      <td>Nashville Predators</td>\n",
       "      <td>4.0</td>\n",
       "      <td>NaN</td>\n",
       "      <td>16648.0</td>\n",
       "      <td>2:43</td>\n",
       "      <td>at (Prague CZ)</td>\n",
       "    </tr>\n",
       "    <tr>\n",
       "      <th>1</th>\n",
       "      <td>2022-10-08</td>\n",
       "      <td>Nashville Predators</td>\n",
       "      <td>3.0</td>\n",
       "      <td>San Jose Sharks</td>\n",
       "      <td>2.0</td>\n",
       "      <td>NaN</td>\n",
       "      <td>17023.0</td>\n",
       "      <td>2:33</td>\n",
       "      <td>at (Prague CZ)</td>\n",
       "    </tr>\n",
       "    <tr>\n",
       "      <th>2</th>\n",
       "      <td>2022-10-11</td>\n",
       "      <td>Vegas Golden Knights</td>\n",
       "      <td>4.0</td>\n",
       "      <td>Los Angeles Kings</td>\n",
       "      <td>3.0</td>\n",
       "      <td>NaN</td>\n",
       "      <td>18230.0</td>\n",
       "      <td>2:31</td>\n",
       "      <td>NaN</td>\n",
       "    </tr>\n",
       "    <tr>\n",
       "      <th>3</th>\n",
       "      <td>2022-10-11</td>\n",
       "      <td>Tampa Bay Lightning</td>\n",
       "      <td>1.0</td>\n",
       "      <td>New York Rangers</td>\n",
       "      <td>3.0</td>\n",
       "      <td>NaN</td>\n",
       "      <td>18006.0</td>\n",
       "      <td>2:21</td>\n",
       "      <td>NaN</td>\n",
       "    </tr>\n",
       "    <tr>\n",
       "      <th>4</th>\n",
       "      <td>2022-10-12</td>\n",
       "      <td>Seattle Kraken</td>\n",
       "      <td>4.0</td>\n",
       "      <td>Anaheim Ducks</td>\n",
       "      <td>5.0</td>\n",
       "      <td>OT</td>\n",
       "      <td>17530.0</td>\n",
       "      <td>2:28</td>\n",
       "      <td>NaN</td>\n",
       "    </tr>\n",
       "    <tr>\n",
       "      <th>...</th>\n",
       "      <td>...</td>\n",
       "      <td>...</td>\n",
       "      <td>...</td>\n",
       "      <td>...</td>\n",
       "      <td>...</td>\n",
       "      <td>...</td>\n",
       "      <td>...</td>\n",
       "      <td>...</td>\n",
       "      <td>...</td>\n",
       "    </tr>\n",
       "    <tr>\n",
       "      <th>1307</th>\n",
       "      <td>2023-04-13</td>\n",
       "      <td>Minnesota Wild</td>\n",
       "      <td>NaN</td>\n",
       "      <td>Nashville Predators</td>\n",
       "      <td>NaN</td>\n",
       "      <td>NaN</td>\n",
       "      <td>NaN</td>\n",
       "      <td>NaN</td>\n",
       "      <td>NaN</td>\n",
       "    </tr>\n",
       "    <tr>\n",
       "      <th>1308</th>\n",
       "      <td>2023-04-13</td>\n",
       "      <td>Toronto Maple Leafs</td>\n",
       "      <td>NaN</td>\n",
       "      <td>New York Rangers</td>\n",
       "      <td>NaN</td>\n",
       "      <td>NaN</td>\n",
       "      <td>NaN</td>\n",
       "      <td>NaN</td>\n",
       "      <td>NaN</td>\n",
       "    </tr>\n",
       "    <tr>\n",
       "      <th>1309</th>\n",
       "      <td>2023-04-13</td>\n",
       "      <td>Vegas Golden Knights</td>\n",
       "      <td>NaN</td>\n",
       "      <td>Seattle Kraken</td>\n",
       "      <td>NaN</td>\n",
       "      <td>NaN</td>\n",
       "      <td>NaN</td>\n",
       "      <td>NaN</td>\n",
       "      <td>NaN</td>\n",
       "    </tr>\n",
       "    <tr>\n",
       "      <th>1310</th>\n",
       "      <td>2023-04-13</td>\n",
       "      <td>Detroit Red Wings</td>\n",
       "      <td>NaN</td>\n",
       "      <td>Tampa Bay Lightning</td>\n",
       "      <td>NaN</td>\n",
       "      <td>NaN</td>\n",
       "      <td>NaN</td>\n",
       "      <td>NaN</td>\n",
       "      <td>NaN</td>\n",
       "    </tr>\n",
       "    <tr>\n",
       "      <th>1311</th>\n",
       "      <td>2023-04-13</td>\n",
       "      <td>New Jersey Devils</td>\n",
       "      <td>NaN</td>\n",
       "      <td>Washington Capitals</td>\n",
       "      <td>NaN</td>\n",
       "      <td>NaN</td>\n",
       "      <td>NaN</td>\n",
       "      <td>NaN</td>\n",
       "      <td>NaN</td>\n",
       "    </tr>\n",
       "  </tbody>\n",
       "</table>\n",
       "<p>1312 rows × 9 columns</p>\n",
       "</div>"
      ],
      "text/plain": [
       "            Date               Visitor  GVisitor                 Home  GHome  \\\n",
       "0     2022-10-07       San Jose Sharks       1.0  Nashville Predators    4.0   \n",
       "1     2022-10-08   Nashville Predators       3.0      San Jose Sharks    2.0   \n",
       "2     2022-10-11  Vegas Golden Knights       4.0    Los Angeles Kings    3.0   \n",
       "3     2022-10-11   Tampa Bay Lightning       1.0     New York Rangers    3.0   \n",
       "4     2022-10-12        Seattle Kraken       4.0        Anaheim Ducks    5.0   \n",
       "...          ...                   ...       ...                  ...    ...   \n",
       "1307  2023-04-13        Minnesota Wild       NaN  Nashville Predators    NaN   \n",
       "1308  2023-04-13   Toronto Maple Leafs       NaN     New York Rangers    NaN   \n",
       "1309  2023-04-13  Vegas Golden Knights       NaN       Seattle Kraken    NaN   \n",
       "1310  2023-04-13     Detroit Red Wings       NaN  Tampa Bay Lightning    NaN   \n",
       "1311  2023-04-13     New Jersey Devils       NaN  Washington Capitals    NaN   \n",
       "\n",
       "     Unnamed: 5     Att.   LOG           Notes  \n",
       "0           NaN  16648.0  2:43  at (Prague CZ)  \n",
       "1           NaN  17023.0  2:33  at (Prague CZ)  \n",
       "2           NaN  18230.0  2:31             NaN  \n",
       "3           NaN  18006.0  2:21             NaN  \n",
       "4            OT  17530.0  2:28             NaN  \n",
       "...         ...      ...   ...             ...  \n",
       "1307        NaN      NaN   NaN             NaN  \n",
       "1308        NaN      NaN   NaN             NaN  \n",
       "1309        NaN      NaN   NaN             NaN  \n",
       "1310        NaN      NaN   NaN             NaN  \n",
       "1311        NaN      NaN   NaN             NaN  \n",
       "\n",
       "[1312 rows x 9 columns]"
      ]
     },
     "execution_count": 50,
     "metadata": {},
     "output_type": "execute_result"
    }
   ],
   "source": [
    "# Here we imported the data from every game of the beginning of the NHL season through 11/12/2022 \n",
    "# Note that some data points are NaN because not every game has gone into overtime and there are no future goals in the \n",
    "# dataset\n",
    "\n",
    "data = pd.read_csv('nhlRecords.csv')\n",
    "data"
   ]
  },
  {
   "cell_type": "code",
   "execution_count": 68,
   "id": "3fa92a82",
   "metadata": {},
   "outputs": [
    {
     "data": {
      "text/plain": [
       "0            San Jose Sharks\n",
       "1        Nashville Predators\n",
       "2       Vegas Golden Knights\n",
       "3        Tampa Bay Lightning\n",
       "4             Seattle Kraken\n",
       "                ...         \n",
       "1307          Minnesota Wild\n",
       "1308     Toronto Maple Leafs\n",
       "1309    Vegas Golden Knights\n",
       "1310       Detroit Red Wings\n",
       "1311       New Jersey Devils\n",
       "Name: Visitor, Length: 1312, dtype: object"
      ]
     },
     "execution_count": 68,
     "metadata": {},
     "output_type": "execute_result"
    }
   ],
   "source": [
    "# Here is the dataset for the visitor column\n",
    "\n",
    "visitor = data[\"Visitor\"]\n",
    "visitor"
   ]
  },
  {
   "cell_type": "code",
   "execution_count": 83,
   "id": "a909f63c",
   "metadata": {},
   "outputs": [
    {
     "data": {
      "text/plain": [
       "22      Carolina Hurricanes\n",
       "44      Carolina Hurricanes\n",
       "61      Carolina Hurricanes\n",
       "75      Carolina Hurricanes\n",
       "94      Carolina Hurricanes\n",
       "134     Carolina Hurricanes\n",
       "170     Carolina Hurricanes\n",
       "207     Carolina Hurricanes\n",
       "227     Carolina Hurricanes\n",
       "244     Carolina Hurricanes\n",
       "278     Carolina Hurricanes\n",
       "299     Carolina Hurricanes\n",
       "318     Carolina Hurricanes\n",
       "357     Carolina Hurricanes\n",
       "373     Carolina Hurricanes\n",
       "382     Carolina Hurricanes\n",
       "402     Carolina Hurricanes\n",
       "436     Carolina Hurricanes\n",
       "457     Carolina Hurricanes\n",
       "528     Carolina Hurricanes\n",
       "591     Carolina Hurricanes\n",
       "602     Carolina Hurricanes\n",
       "628     Carolina Hurricanes\n",
       "664     Carolina Hurricanes\n",
       "739     Carolina Hurricanes\n",
       "765     Carolina Hurricanes\n",
       "804     Carolina Hurricanes\n",
       "862     Carolina Hurricanes\n",
       "972     Carolina Hurricanes\n",
       "984     Carolina Hurricanes\n",
       "1015    Carolina Hurricanes\n",
       "1056    Carolina Hurricanes\n",
       "1092    Carolina Hurricanes\n",
       "1103    Carolina Hurricanes\n",
       "1126    Carolina Hurricanes\n",
       "1190    Carolina Hurricanes\n",
       "1208    Carolina Hurricanes\n",
       "1248    Carolina Hurricanes\n",
       "1258    Carolina Hurricanes\n",
       "1281    Carolina Hurricanes\n",
       "1305    Carolina Hurricanes\n",
       "Name: Visitor, dtype: object"
      ]
     },
     "execution_count": 83,
     "metadata": {},
     "output_type": "execute_result"
    }
   ],
   "source": [
    "# Here is the dataset for only when the Carolina Hurricanes visit \n",
    "\n",
    "visitor[visitor.str.contains(\"Carolina Hurricanes\")]"
   ]
  },
  {
   "cell_type": "code",
   "execution_count": 111,
   "id": "8243f148",
   "metadata": {},
   "outputs": [
    {
     "data": {
      "text/plain": [
       "0       Nashville Predators\n",
       "1           San Jose Sharks\n",
       "2         Los Angeles Kings\n",
       "3          New York Rangers\n",
       "4             Anaheim Ducks\n",
       "               ...         \n",
       "1307    Nashville Predators\n",
       "1308       New York Rangers\n",
       "1309         Seattle Kraken\n",
       "1310    Tampa Bay Lightning\n",
       "1311    Washington Capitals\n",
       "Name: Home, Length: 1312, dtype: object"
      ]
     },
     "execution_count": 111,
     "metadata": {},
     "output_type": "execute_result"
    }
   ],
   "source": [
    "# Here is my dataset for home hockey teams\n",
    "\n",
    "home = data[\"Home\"]\n",
    "home"
   ]
  },
  {
   "cell_type": "code",
   "execution_count": 91,
   "id": "803ef96b",
   "metadata": {},
   "outputs": [
    {
     "data": {
      "text/plain": [
       "5       Carolina Hurricanes\n",
       "121     Carolina Hurricanes\n",
       "144     Carolina Hurricanes\n",
       "173     Carolina Hurricanes\n",
       "190     Carolina Hurricanes\n",
       "212     Carolina Hurricanes\n",
       "260     Carolina Hurricanes\n",
       "304     Carolina Hurricanes\n",
       "331     Carolina Hurricanes\n",
       "469     Carolina Hurricanes\n",
       "485     Carolina Hurricanes\n",
       "496     Carolina Hurricanes\n",
       "509     Carolina Hurricanes\n",
       "535     Carolina Hurricanes\n",
       "546     Carolina Hurricanes\n",
       "574     Carolina Hurricanes\n",
       "611     Carolina Hurricanes\n",
       "649     Carolina Hurricanes\n",
       "677     Carolina Hurricanes\n",
       "690     Carolina Hurricanes\n",
       "718     Carolina Hurricanes\n",
       "779     Carolina Hurricanes\n",
       "798     Carolina Hurricanes\n",
       "801     Carolina Hurricanes\n",
       "833     Carolina Hurricanes\n",
       "869     Carolina Hurricanes\n",
       "883     Carolina Hurricanes\n",
       "908     Carolina Hurricanes\n",
       "929     Carolina Hurricanes\n",
       "935     Carolina Hurricanes\n",
       "1001    Carolina Hurricanes\n",
       "1027    Carolina Hurricanes\n",
       "1039    Carolina Hurricanes\n",
       "1064    Carolina Hurricanes\n",
       "1136    Carolina Hurricanes\n",
       "1151    Carolina Hurricanes\n",
       "1165    Carolina Hurricanes\n",
       "1176    Carolina Hurricanes\n",
       "1216    Carolina Hurricanes\n",
       "1228    Carolina Hurricanes\n",
       "1286    Carolina Hurricanes\n",
       "Name: Home, dtype: object"
      ]
     },
     "execution_count": 91,
     "metadata": {},
     "output_type": "execute_result"
    }
   ],
   "source": [
    "# Here is my dataset for when the Carolina Hurricanes are home\n",
    "\n",
    "home[home.str.contains(\"Carolina Hurricanes\")]"
   ]
  },
  {
   "cell_type": "code",
   "execution_count": 113,
   "id": "39a5e23f",
   "metadata": {},
   "outputs": [
    {
     "data": {
      "text/plain": [
       "0       4.0\n",
       "1       2.0\n",
       "2       3.0\n",
       "3       3.0\n",
       "4       5.0\n",
       "       ... \n",
       "1307    NaN\n",
       "1308    NaN\n",
       "1309    NaN\n",
       "1310    NaN\n",
       "1311    NaN\n",
       "Name: GHome, Length: 1312, dtype: float64"
      ]
     },
     "execution_count": 113,
     "metadata": {},
     "output_type": "execute_result"
    }
   ],
   "source": [
    "# Here is the dataset for the goals scored by the home hockey team \n",
    "\n",
    "homeGoals = data[\"GHome\"]\n",
    "homeGoals"
   ]
  },
  {
   "cell_type": "code",
   "execution_count": 114,
   "id": "3f556861",
   "metadata": {},
   "outputs": [
    {
     "data": {
      "text/plain": [
       "0       1.0\n",
       "1       3.0\n",
       "2       4.0\n",
       "3       1.0\n",
       "4       4.0\n",
       "       ... \n",
       "1307    NaN\n",
       "1308    NaN\n",
       "1309    NaN\n",
       "1310    NaN\n",
       "1311    NaN\n",
       "Name: GVisitor, Length: 1312, dtype: float64"
      ]
     },
     "execution_count": 114,
     "metadata": {},
     "output_type": "execute_result"
    }
   ],
   "source": [
    "# Here is the dataset for the goals scored by the away hockey team \n",
    "\n",
    "visitorGoals = data[\"GVisitor\"]\n",
    "visitorGoals"
   ]
  },
  {
   "cell_type": "code",
   "execution_count": 128,
   "id": "31e4e1cb",
   "metadata": {},
   "outputs": [
    {
     "name": "stdout",
     "output_type": "stream",
     "text": [
      "Hurricanes had 5 road wins.\n",
      "Hurricanes had 3 road losses.\n",
      "Hurricanes had 4 home wins.\n",
      "Hurricanes had 2 home losses\n"
     ]
    }
   ],
   "source": [
    "# Here we will intialize our integer values\n",
    "hurricanesVisitorWins = 0\n",
    "hurricanesVisitorLosses = 0\n",
    "hurricanesHomeWins = 0\n",
    "hurricanesHomeLosses = 0\n",
    "\n",
    "# Overall what we are doing here is make sure that in the visitor column it sais Carolina Hurricanes then we are \n",
    "# going to check if the visitor goals column is greater than the home goals column. If so this will be counted as \n",
    "# a hurricanes visitor win. If not it will be counted as a hurricanes visitor loss.\n",
    "\n",
    "# We only do a range of 225 became we have only played hockey games through 11/12/2022 which is 225th row\n",
    "for i in range(225):\n",
    "    if(visitor.values[i]==\"Carolina Hurricanes\"):\n",
    "        if(visitorGoals[i]>homeGoals[i]):\n",
    "            hurricanesVisitorWins = hurricanesVisitorWins +1\n",
    "        elif(visitorGoals[i]<homeGoals[i]):\n",
    "            hurricanesVisitorLosses = hurricanesVisitorLosses+1\n",
    "            \n",
    "    elif(home.values[i]==\"Carolina Hurricanes\"):\n",
    "        if(homeGoals[i] > visitorGoals[i]):\n",
    "            hurricanesHomeWins=hurricanesHomeWins+1\n",
    "        elif(homeGoals[i] < visitorGoals[i]):\n",
    "            hurricanesHomeLosses = hurricanesHomeLosses +1\n",
    "\n",
    "# Here we will print our findings\n",
    "\n",
    "print(\"Hurricanes had\",hurricanesVisitorWins,\"road wins.\")\n",
    "print(\"Hurricanes had\",hurricanesVisitorLosses,\"road losses.\")\n",
    "print(\"Hurricanes had\",hurricanesHomeWins,\"home wins.\")\n",
    "print(\"Hurricanes had\",hurricanesHomeLosses,\"home losses\")\n"
   ]
  },
  {
   "cell_type": "code",
   "execution_count": 155,
   "id": "73a3ee8d",
   "metadata": {},
   "outputs": [
    {
     "data": {
      "image/png": "[encoded data removed]",
      "text/plain": [
       "<Figure size 432x288 with 1 Axes>"
      ]
     },
     "metadata": {
      "needs_background": "light"
     },
     "output_type": "display_data"
    }
   ],
   "source": [
    "plt.bar([1],[hurricanesHomeWins],\n",
    "label=\"Home Wins\",color='r',width=.5)\n",
    "\n",
    "plt.bar([4],[hurricanesHomeLosses],\n",
    "label=\"Home Losses\",color='black',width=.5)\n",
    "\n",
    "plt.bar([7],[hurricanesVisitorWins],\n",
    "label=\"Visitor Wins\",color='gray',width=.5)\n",
    "\n",
    "plt.bar([10],[hurricanesVisitorLosses],\n",
    "label=\"Visitor Losses\",color='white',width=.5,edgecolor = \"black\")\n",
    "\n",
    "\n",
    "plt.legend()\n",
    "\n",
    "\n",
    "plt.ylabel('Wins/Losses')\n",
    "\n",
    "plt.title('Hurricanes Win /Loss Record')\n",
    "\n",
    "plt.show()"
   ]
  },
  {
   "cell_type": "code",
   "execution_count": 166,
   "id": "73031613",
   "metadata": {},
   "outputs": [
    {
     "data": {
      "image/png": "[encoded data removed]",
      "text/plain": [
       "<Figure size 432x288 with 1 Axes>"
      ]
     },
     "metadata": {},
     "output_type": "display_data"
    }
   ],
   "source": [
    "slices = [hurricanesVisitorWins,hurricanesVisitorLosses,hurricanesHomeWins,hurricanesHomeLosses]\n",
    "\n",
    "activities = ['Visitor Wins','Vistor Losses','Home Wins','Home Losses']\n",
    "\n",
    "cols = ['gray','white','red','white']\n",
    "\n",
    "plt.pie(slices,\n",
    "\n",
    "labels=activities,\n",
    "\n",
    "colors=cols,\n",
    "\n",
    "startangle=90,\n",
    "\n",
    "shadow= True,\n",
    "\n",
    "explode=(0,0,0.1,0),\n",
    "\n",
    "autopct='%1.1f%%')\n",
    "\n",
    "plt.title('Hurricanes Record')\n",
    "\n",
    "plt.show()"
   ]
  },
  {
   "cell_type": "code",
   "execution_count": null,
   "id": "213d4db8",
   "metadata": {},
   "outputs": [],
   "source": []
  },
  {
   "cell_type": "code",
   "execution_count": null,
   "id": "b7146bc6",
   "metadata": {},
   "outputs": [],
   "source": []
  },
  {
   "cell_type": "code",
   "execution_count": null,
   "id": "0d101a4c",
   "metadata": {},
   "outputs": [],
   "source": []
  }
 ],
 "metadata": {
  "kernelspec": {
   "display_name": "Python 3 (ipykernel)",
   "language": "python",
   "name": "python3"
  },
  "language_info": {
   "codemirror_mode": {
    "name": "ipython",
    "version": 3
   },
   "file_extension": ".py",
   "mimetype": "text/x-python",
   "name": "python",
   "nbconvert_exporter": "python",
   "pygments_lexer": "ipython3",
   "version": "3.9.12"
  }
 },
 "nbformat": 4,
 "nbformat_minor": 5
}
